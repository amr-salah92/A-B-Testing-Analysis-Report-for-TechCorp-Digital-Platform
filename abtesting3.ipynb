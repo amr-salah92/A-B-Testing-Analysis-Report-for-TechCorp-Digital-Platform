{
 "cells": [
  {
   "cell_type": "code",
   "execution_count": 25,
   "metadata": {},
   "outputs": [],
   "source": [
    "import numpy as np\n",
    "import pandas as pd \n",
    "import matplotlib.pyplot as plt\n",
    "from scipy.stats import norm \n"
   ]
  },
  {
   "cell_type": "code",
   "execution_count": 26,
   "metadata": {},
   "outputs": [
    {
     "data": {
      "text/html": [
       "<div>\n",
       "<style scoped>\n",
       "    .dataframe tbody tr th:only-of-type {\n",
       "        vertical-align: middle;\n",
       "    }\n",
       "\n",
       "    .dataframe tbody tr th {\n",
       "        vertical-align: top;\n",
       "    }\n",
       "\n",
       "    .dataframe thead th {\n",
       "        text-align: right;\n",
       "    }\n",
       "</style>\n",
       "<table border=\"1\" class=\"dataframe\">\n",
       "  <thead>\n",
       "    <tr style=\"text-align: right;\">\n",
       "      <th></th>\n",
       "      <th>User ID</th>\n",
       "      <th>Group</th>\n",
       "      <th>Page Views</th>\n",
       "      <th>Time Spent</th>\n",
       "      <th>Conversion</th>\n",
       "      <th>Device</th>\n",
       "      <th>Location</th>\n",
       "    </tr>\n",
       "  </thead>\n",
       "  <tbody>\n",
       "    <tr>\n",
       "      <th>0</th>\n",
       "      <td>14292</td>\n",
       "      <td>B</td>\n",
       "      <td>3</td>\n",
       "      <td>424</td>\n",
       "      <td>No</td>\n",
       "      <td>Mobile</td>\n",
       "      <td>Northern Ireland</td>\n",
       "    </tr>\n",
       "    <tr>\n",
       "      <th>1</th>\n",
       "      <td>11682</td>\n",
       "      <td>A</td>\n",
       "      <td>9</td>\n",
       "      <td>342</td>\n",
       "      <td>No</td>\n",
       "      <td>Mobile</td>\n",
       "      <td>Scotland</td>\n",
       "    </tr>\n",
       "    <tr>\n",
       "      <th>2</th>\n",
       "      <td>19825</td>\n",
       "      <td>A</td>\n",
       "      <td>2</td>\n",
       "      <td>396</td>\n",
       "      <td>No</td>\n",
       "      <td>Desktop</td>\n",
       "      <td>Northern Ireland</td>\n",
       "    </tr>\n",
       "    <tr>\n",
       "      <th>3</th>\n",
       "      <td>16080</td>\n",
       "      <td>B</td>\n",
       "      <td>4</td>\n",
       "      <td>318</td>\n",
       "      <td>No</td>\n",
       "      <td>Desktop</td>\n",
       "      <td>Wales</td>\n",
       "    </tr>\n",
       "    <tr>\n",
       "      <th>4</th>\n",
       "      <td>18851</td>\n",
       "      <td>A</td>\n",
       "      <td>1</td>\n",
       "      <td>338</td>\n",
       "      <td>Yes</td>\n",
       "      <td>Desktop</td>\n",
       "      <td>Scotland</td>\n",
       "    </tr>\n",
       "  </tbody>\n",
       "</table>\n",
       "</div>"
      ],
      "text/plain": [
       "   User ID Group  Page Views  Time Spent Conversion   Device          Location\n",
       "0    14292     B           3         424         No   Mobile  Northern Ireland\n",
       "1    11682     A           9         342         No   Mobile          Scotland\n",
       "2    19825     A           2         396         No  Desktop  Northern Ireland\n",
       "3    16080     B           4         318         No  Desktop             Wales\n",
       "4    18851     A           1         338        Yes  Desktop          Scotland"
      ]
     },
     "execution_count": 26,
     "metadata": {},
     "output_type": "execute_result"
    }
   ],
   "source": [
    "data = pd.read_csv(r'C:\\Users\\DELL2025\\Downloads\\Compressed\\ab_testing.csv')\n",
    "data.head()"
   ]
  },
  {
   "cell_type": "code",
   "execution_count": 27,
   "metadata": {},
   "outputs": [
    {
     "name": "stdout",
     "output_type": "stream",
     "text": [
      "<class 'pandas.core.frame.DataFrame'>\n",
      "RangeIndex: 5000 entries, 0 to 4999\n",
      "Data columns (total 7 columns):\n",
      " #   Column      Non-Null Count  Dtype \n",
      "---  ------      --------------  ----- \n",
      " 0   User ID     5000 non-null   int64 \n",
      " 1   Group       5000 non-null   object\n",
      " 2   Page Views  5000 non-null   int64 \n",
      " 3   Time Spent  5000 non-null   int64 \n",
      " 4   Conversion  5000 non-null   object\n",
      " 5   Device      5000 non-null   object\n",
      " 6   Location    5000 non-null   object\n",
      "dtypes: int64(3), object(4)\n",
      "memory usage: 273.6+ KB\n"
     ]
    }
   ],
   "source": [
    "data.info()"
   ]
  },
  {
   "cell_type": "code",
   "execution_count": 28,
   "metadata": {},
   "outputs": [
    {
     "data": {
      "text/html": [
       "<div>\n",
       "<style scoped>\n",
       "    .dataframe tbody tr th:only-of-type {\n",
       "        vertical-align: middle;\n",
       "    }\n",
       "\n",
       "    .dataframe tbody tr th {\n",
       "        vertical-align: top;\n",
       "    }\n",
       "\n",
       "    .dataframe thead th {\n",
       "        text-align: right;\n",
       "    }\n",
       "</style>\n",
       "<table border=\"1\" class=\"dataframe\">\n",
       "  <thead>\n",
       "    <tr style=\"text-align: right;\">\n",
       "      <th></th>\n",
       "      <th>User ID</th>\n",
       "      <th>Page Views</th>\n",
       "      <th>Time Spent</th>\n",
       "    </tr>\n",
       "  </thead>\n",
       "  <tbody>\n",
       "    <tr>\n",
       "      <th>count</th>\n",
       "      <td>5000.000000</td>\n",
       "      <td>5000.000000</td>\n",
       "      <td>5000.000000</td>\n",
       "    </tr>\n",
       "    <tr>\n",
       "      <th>mean</th>\n",
       "      <td>14925.159000</td>\n",
       "      <td>7.537600</td>\n",
       "      <td>242.512600</td>\n",
       "    </tr>\n",
       "    <tr>\n",
       "      <th>std</th>\n",
       "      <td>2869.153773</td>\n",
       "      <td>4.022465</td>\n",
       "      <td>118.254153</td>\n",
       "    </tr>\n",
       "    <tr>\n",
       "      <th>min</th>\n",
       "      <td>10001.000000</td>\n",
       "      <td>1.000000</td>\n",
       "      <td>40.000000</td>\n",
       "    </tr>\n",
       "    <tr>\n",
       "      <th>25%</th>\n",
       "      <td>12456.250000</td>\n",
       "      <td>4.000000</td>\n",
       "      <td>137.000000</td>\n",
       "    </tr>\n",
       "    <tr>\n",
       "      <th>50%</th>\n",
       "      <td>14858.500000</td>\n",
       "      <td>8.000000</td>\n",
       "      <td>243.000000</td>\n",
       "    </tr>\n",
       "    <tr>\n",
       "      <th>75%</th>\n",
       "      <td>17379.750000</td>\n",
       "      <td>11.000000</td>\n",
       "      <td>346.000000</td>\n",
       "    </tr>\n",
       "    <tr>\n",
       "      <th>max</th>\n",
       "      <td>19995.000000</td>\n",
       "      <td>14.000000</td>\n",
       "      <td>449.000000</td>\n",
       "    </tr>\n",
       "  </tbody>\n",
       "</table>\n",
       "</div>"
      ],
      "text/plain": [
       "            User ID   Page Views   Time Spent\n",
       "count   5000.000000  5000.000000  5000.000000\n",
       "mean   14925.159000     7.537600   242.512600\n",
       "std     2869.153773     4.022465   118.254153\n",
       "min    10001.000000     1.000000    40.000000\n",
       "25%    12456.250000     4.000000   137.000000\n",
       "50%    14858.500000     8.000000   243.000000\n",
       "75%    17379.750000    11.000000   346.000000\n",
       "max    19995.000000    14.000000   449.000000"
      ]
     },
     "execution_count": 28,
     "metadata": {},
     "output_type": "execute_result"
    }
   ],
   "source": [
    "data.describe()"
   ]
  },
  {
   "cell_type": "code",
   "execution_count": 29,
   "metadata": {},
   "outputs": [
    {
     "data": {
      "text/plain": [
       "User ID       0\n",
       "Group         0\n",
       "Page Views    0\n",
       "Time Spent    0\n",
       "Conversion    0\n",
       "Device        0\n",
       "Location      0\n",
       "dtype: int64"
      ]
     },
     "execution_count": 29,
     "metadata": {},
     "output_type": "execute_result"
    }
   ],
   "source": [
    "data.isna().sum()"
   ]
  },
  {
   "cell_type": "code",
   "execution_count": 30,
   "metadata": {},
   "outputs": [
    {
     "data": {
      "text/plain": [
       "np.int64(0)"
      ]
     },
     "execution_count": 30,
     "metadata": {},
     "output_type": "execute_result"
    }
   ],
   "source": [
    "data.duplicated().sum()"
   ]
  },
  {
   "cell_type": "code",
   "execution_count": 31,
   "metadata": {},
   "outputs": [
    {
     "name": "stderr",
     "output_type": "stream",
     "text": [
      "C:\\Users\\DELL2025\\AppData\\Local\\Temp\\ipykernel_33956\\3135000890.py:1: FutureWarning: A value is trying to be set on a copy of a DataFrame or Series through chained assignment using an inplace method.\n",
      "The behavior will change in pandas 3.0. This inplace method will never work because the intermediate object on which we are setting values always behaves as a copy.\n",
      "\n",
      "For example, when doing 'df[col].method(value, inplace=True)', try using 'df.method({col: value}, inplace=True)' or df[col] = df[col].method(value) instead, to perform the operation inplace on the original object.\n",
      "\n",
      "\n",
      "  data['Group'].replace({'A':'Control','B':'Treatment'},inplace=True)\n"
     ]
    },
    {
     "data": {
      "text/html": [
       "<div>\n",
       "<style scoped>\n",
       "    .dataframe tbody tr th:only-of-type {\n",
       "        vertical-align: middle;\n",
       "    }\n",
       "\n",
       "    .dataframe tbody tr th {\n",
       "        vertical-align: top;\n",
       "    }\n",
       "\n",
       "    .dataframe thead th {\n",
       "        text-align: right;\n",
       "    }\n",
       "</style>\n",
       "<table border=\"1\" class=\"dataframe\">\n",
       "  <thead>\n",
       "    <tr style=\"text-align: right;\">\n",
       "      <th></th>\n",
       "      <th>User ID</th>\n",
       "      <th>Group</th>\n",
       "      <th>Page Views</th>\n",
       "      <th>Time Spent</th>\n",
       "      <th>Conversion</th>\n",
       "      <th>Device</th>\n",
       "      <th>Location</th>\n",
       "    </tr>\n",
       "  </thead>\n",
       "  <tbody>\n",
       "    <tr>\n",
       "      <th>0</th>\n",
       "      <td>14292</td>\n",
       "      <td>Treatment</td>\n",
       "      <td>3</td>\n",
       "      <td>424</td>\n",
       "      <td>No</td>\n",
       "      <td>Mobile</td>\n",
       "      <td>Northern Ireland</td>\n",
       "    </tr>\n",
       "    <tr>\n",
       "      <th>1</th>\n",
       "      <td>11682</td>\n",
       "      <td>Control</td>\n",
       "      <td>9</td>\n",
       "      <td>342</td>\n",
       "      <td>No</td>\n",
       "      <td>Mobile</td>\n",
       "      <td>Scotland</td>\n",
       "    </tr>\n",
       "    <tr>\n",
       "      <th>2</th>\n",
       "      <td>19825</td>\n",
       "      <td>Control</td>\n",
       "      <td>2</td>\n",
       "      <td>396</td>\n",
       "      <td>No</td>\n",
       "      <td>Desktop</td>\n",
       "      <td>Northern Ireland</td>\n",
       "    </tr>\n",
       "    <tr>\n",
       "      <th>3</th>\n",
       "      <td>16080</td>\n",
       "      <td>Treatment</td>\n",
       "      <td>4</td>\n",
       "      <td>318</td>\n",
       "      <td>No</td>\n",
       "      <td>Desktop</td>\n",
       "      <td>Wales</td>\n",
       "    </tr>\n",
       "    <tr>\n",
       "      <th>4</th>\n",
       "      <td>18851</td>\n",
       "      <td>Control</td>\n",
       "      <td>1</td>\n",
       "      <td>338</td>\n",
       "      <td>Yes</td>\n",
       "      <td>Desktop</td>\n",
       "      <td>Scotland</td>\n",
       "    </tr>\n",
       "  </tbody>\n",
       "</table>\n",
       "</div>"
      ],
      "text/plain": [
       "   User ID      Group  Page Views  Time Spent Conversion   Device  \\\n",
       "0    14292  Treatment           3         424         No   Mobile   \n",
       "1    11682    Control           9         342         No   Mobile   \n",
       "2    19825    Control           2         396         No  Desktop   \n",
       "3    16080  Treatment           4         318         No  Desktop   \n",
       "4    18851    Control           1         338        Yes  Desktop   \n",
       "\n",
       "           Location  \n",
       "0  Northern Ireland  \n",
       "1          Scotland  \n",
       "2  Northern Ireland  \n",
       "3             Wales  \n",
       "4          Scotland  "
      ]
     },
     "execution_count": 31,
     "metadata": {},
     "output_type": "execute_result"
    }
   ],
   "source": [
    "data['Group'].replace({'A':'Control','B':'Treatment'},inplace=True)\n",
    "data.head()"
   ]
  },
  {
   "cell_type": "code",
   "execution_count": 32,
   "metadata": {},
   "outputs": [
    {
     "data": {
      "text/plain": [
       "Location\n",
       "Scotland            1281\n",
       "England             1246\n",
       "Northern Ireland    1242\n",
       "Wales               1231\n",
       "Name: count, dtype: int64"
      ]
     },
     "execution_count": 32,
     "metadata": {},
     "output_type": "execute_result"
    }
   ],
   "source": [
    "data['Location'].value_counts()"
   ]
  },
  {
   "cell_type": "code",
   "execution_count": 33,
   "metadata": {},
   "outputs": [
    {
     "data": {
      "text/plain": [
       "Location\n",
       "England             9485\n",
       "Northern Ireland    9297\n",
       "Scotland            9715\n",
       "Wales               9191\n",
       "Name: Page Views, dtype: int64"
      ]
     },
     "execution_count": 33,
     "metadata": {},
     "output_type": "execute_result"
    }
   ],
   "source": [
    "views_by_location = data.groupby('Location')['Page Views'].sum()\n",
    "views_by_location"
   ]
  },
  {
   "cell_type": "code",
   "execution_count": 34,
   "metadata": {},
   "outputs": [
    {
     "data": {
      "text/plain": [
       "Location\n",
       "England             306387\n",
       "Northern Ireland    302005\n",
       "Scotland            300114\n",
       "Wales               304057\n",
       "Name: Time Spent, dtype: int64"
      ]
     },
     "execution_count": 34,
     "metadata": {},
     "output_type": "execute_result"
    }
   ],
   "source": [
    "time_by_location = data.groupby('Location')['Time Spent'].sum()\n",
    "time_by_location"
   ]
  },
  {
   "cell_type": "code",
   "execution_count": 35,
   "metadata": {},
   "outputs": [
    {
     "data": {
      "text/plain": [
       "Device\n",
       "Desktop    617205\n",
       "Mobile     595358\n",
       "Name: Time Spent, dtype: int64"
      ]
     },
     "execution_count": 35,
     "metadata": {},
     "output_type": "execute_result"
    }
   ],
   "source": [
    "device_by_time = data.groupby('Device')['Time Spent'].sum()\n",
    "device_by_time"
   ]
  },
  {
   "cell_type": "code",
   "execution_count": 36,
   "metadata": {},
   "outputs": [
    {
     "data": {
      "text/plain": [
       "Location          Device \n",
       "Scotland          Desktop    654\n",
       "Northern Ireland  Desktop    642\n",
       "Scotland          Mobile     627\n",
       "England           Mobile     625\n",
       "Wales             Desktop    621\n",
       "England           Desktop    621\n",
       "Wales             Mobile     610\n",
       "Northern Ireland  Mobile     600\n",
       "dtype: int64"
      ]
     },
     "execution_count": 36,
     "metadata": {},
     "output_type": "execute_result"
    }
   ],
   "source": [
    "Device_by_location = data.groupby(['Location', 'Device']).size().sort_values(ascending=False)\n",
    "Device_by_location"
   ]
  },
  {
   "cell_type": "code",
   "execution_count": 37,
   "metadata": {},
   "outputs": [
    {
     "name": "stdout",
     "output_type": "stream",
     "text": [
      "Total successful conversions: 485\n",
      "Total failed conversions: 4515\n",
      "Total users in control group: 2519\n",
      "Total users in treatment group: 2481\n",
      "Conversions in control group: 136\n",
      "Conversions in treatment group: 349\n"
     ]
    }
   ],
   "source": [
    "# Total conversions\n",
    "conversion_number = data[data['Conversion'] == 'Yes'].shape[0]\n",
    "failed_conversion_number = data[data['Conversion'] == 'No'].shape[0]\n",
    "\n",
    "# Total users per group\n",
    "total_controlled_users = data[data['Group'] == 'Control'].shape[0]\n",
    "total_treatment_users = data[data['Group'] == 'Treatment'].shape[0]\n",
    "\n",
    "# Conversions per group \n",
    "conversion_in_controlled = data[(data['Group'] == 'Control') & (data['Conversion'] == 'Yes')].shape[0]\n",
    "conversion_in_treatment = data[(data['Group'] == 'Treatment') & (data['Conversion'] == 'Yes')].shape[0]\n",
    "\n",
    "\n",
    "print(f\"Total successful conversions: {conversion_number}\")\n",
    "print(f\"Total failed conversions: {failed_conversion_number}\")\n",
    "print(f\"Total users in control group: {total_controlled_users}\")\n",
    "print(f\"Total users in treatment group: {total_treatment_users}\")\n",
    "print(f\"Conversions in control group: {conversion_in_controlled}\")\n",
    "print(f\"Conversions in treatment group: {conversion_in_treatment}\")\n"
   ]
  },
  {
   "cell_type": "code",
   "execution_count": 38,
   "metadata": {},
   "outputs": [
    {
     "name": "stdout",
     "output_type": "stream",
     "text": [
      "Control Conversion Rate: 5.40%\n",
      "Treatment Conversion Rate: 14.07%\n",
      "total Conversion Rate: 9.70%\n",
      "Conversion Uplift: 8.67%\n"
     ]
    }
   ],
   "source": [
    "control_rate = conversion_in_controlled / total_controlled_users\n",
    "\n",
    "treatment_rate = conversion_in_treatment / total_treatment_users\n",
    "\n",
    "conversion_total_groups = (conversion_in_controlled + conversion_in_treatment) / ( total_treatment_users + total_controlled_users)\n",
    "\n",
    "conversion_rate_uplift = (treatment_rate - control_rate) * 100\n",
    "\n",
    "print(f\"Control Conversion Rate: {control_rate:.2%}\")\n",
    "print(f\"Treatment Conversion Rate: {treatment_rate:.2%}\")\n",
    "print(f\"total Conversion Rate: {conversion_total_groups:.2%}\")\n",
    "print(f\"Conversion Uplift: {conversion_rate_uplift:.2f}%\")"
   ]
  },
  {
   "cell_type": "code",
   "execution_count": 39,
   "metadata": {},
   "outputs": [
    {
     "name": "stdout",
     "output_type": "stream",
     "text": [
      "Control Time Spend Rate: 50.22%\n",
      "Treatment Time Spend Rate: 49.78%\n",
      "Time Spend Uplift: -0.44%\n"
     ]
    }
   ],
   "source": [
    "total_time_spend = data['Time Spent'].sum()\n",
    "\n",
    "control_time_spend = data[data['Group'] == 'Control']['Time Spent'].sum()\n",
    "treatment_time_spend = data[data['Group'] == 'Treatment']['Time Spent'].sum()\n",
    "\n",
    "control_time_spend_rate = control_time_spend / total_time_spend\n",
    "treatment_time_spend_rate = treatment_time_spend / total_time_spend\n",
    "\n",
    "time_spend_uplift = (treatment_time_spend_rate - control_time_spend_rate) * 100\n",
    "\n",
    "print(f\"Control Time Spend Rate: {control_time_spend_rate:.2%}\")\n",
    "print(f\"Treatment Time Spend Rate: {treatment_time_spend_rate:.2%}\")\n",
    "print(f\"Time Spend Uplift: {time_spend_uplift:.2f}%\")"
   ]
  },
  {
   "cell_type": "code",
   "execution_count": 40,
   "metadata": {},
   "outputs": [
    {
     "name": "stdout",
     "output_type": "stream",
     "text": [
      "Alpha : Significance level is (probability of Type 1 error false positive)  0.05\n",
      "delta : minimum dectectable effect is  0.01\n"
     ]
    }
   ],
   "source": [
    "alpha =  0.05\n",
    "print(\"Alpha : Significance level is (probability of Type 1 error false positive) \",alpha)\n",
    "\n",
    "\n",
    "delta = 0.01\n",
    "print(\"delta : minimum dectectable effect is \",delta)"
   ]
  },
  {
   "cell_type": "code",
   "execution_count": 51,
   "metadata": {},
   "outputs": [
    {
     "name": "stdout",
     "output_type": "stream",
     "text": [
      "pooled variance is  6.899863177204392e-05\n",
      "Statistical Error: 0.83% (margin of error)\n",
      "Test Statistic: -10.44\n",
      "Critical Value: 1.96\n",
      "there is statitical esignificance  , indicate that the observed differances between groups are unlikly to occured by chance  , Reject the null hypothesis\n",
      "P-value: 0.000000\n",
      "p_value of the 2sample z-test 0.0\n",
      "there is statitical esignificance  , indicate that the observed differances between groups are unlikly to occured by chance  , Reject the null hypothesis\n"
     ]
    }
   ],
   "source": [
    "pooled_variance = (control_rate * (1 - control_rate) / total_controlled_users) + (treatment_rate * (1 - treatment_rate) / total_treatment_users)\n",
    "print(\"pooled variance is \" ,pooled_variance)\n",
    "\n",
    "\n",
    "statisitcal_error = (np.sqrt(pooled_variance) ) * 100\n",
    "print(f\"Statistical Error: {statisitcal_error:.2f}% (margin of error)\")\n",
    "\n",
    "test_statistic = (control_rate - treatment_rate ) / (statisitcal_error / 100)\n",
    "print(f\"Test Statistic: {test_statistic:.2f}\")\n",
    "\n",
    "z_critical = norm.ppf(1-alpha/2)\n",
    "print(f\"Critical Value: {z_critical:.2f}\")\n",
    "\n",
    "if z_critical <= abs(test_statistic) :\n",
    "        print(\"there is statitical esignificance  , indicate that the observed differances between groups are unlikly to occured by chance  , Reject the null hypothesis\")\n",
    "\n",
    "else:\n",
    "        print(\"there is no statitical esignificance  , indicate that the observed differances between groups are likly to occurred by chance ,Fail to reject the null hypothesis \")\n",
    "\n",
    "\n",
    "p_value = 2*norm.sf(abs(test_statistic))\n",
    "print(f\"P-value: {p_value:.6f}\")\n",
    "\n",
    "\n",
    "def is_statistical_significance(p_value,alpha):\n",
    "    print(f\"p_value of the 2sample z-test {round(p_value,3)}\")\n",
    "\n",
    "    if p_value < alpha :\n",
    "        print(\"there is statitical esignificance  , indicate that the observed differances between groups are unlikly to occured by chance  , Reject the null hypothesis\")\n",
    "\n",
    "    else:\n",
    "        print(\"there is no statitical esignificance  , indicate that the observed differances between groups are likly to occurred by chance ,Fail to reject the null hypothesis \")\n",
    "\n",
    "is_statistical_significance(p_value,alpha)\n"
   ]
  },
  {
   "cell_type": "code",
   "execution_count": 52,
   "metadata": {},
   "outputs": [
    {
     "name": "stdout",
     "output_type": "stream",
     "text": [
      "Confidence Interval: [np.float64(0.07), np.float64(0.103)]\n"
     ]
    }
   ],
   "source": [
    "\n",
    "CI = [ round((treatment_rate - control_rate) - (statisitcal_error/100) * z_critical , 3),\n",
    "       round((treatment_rate - control_rate) + (statisitcal_error/100) * z_critical , 3)\n",
    "]\n",
    "\n",
    "print(f\"Confidence Interval: {CI}\")"
   ]
  },
  {
   "cell_type": "code",
   "execution_count": 53,
   "metadata": {},
   "outputs": [
    {
     "data": {
      "image/png": "[encoded data removed]",
      "text/plain": [
       "<Figure size 1000x600 with 1 Axes>"
      ]
     },
     "metadata": {},
     "output_type": "display_data"
    }
   ],
   "source": [
    "Mu = 0\n",
    "sigma = 1\n",
    "x = np.linspace(Mu - 3*sigma , Mu + 3*sigma , 100)\n",
    "y = norm.pdf(x,Mu,sigma)\n",
    "plt.figure(figsize=(10, 6))\n",
    "\n",
    "# Plot the Gaussian distribution\n",
    "plt.plot(x, y, label='Normal Distribution', color='blue')\n",
    "\n",
    "# Shade the rejection region\n",
    "plt.fill_between(x, 0, y, where=(x > z_critical), color='red', alpha=0.5, label='Rejection Region (Right Tail)')\n",
    "plt.fill_between(x, 0, y, where=(x < -z_critical), color='red', alpha=0.5)\n",
    "\n",
    "# Add labels and legend\n",
    "plt.axvline(z_critical, color='red', linestyle='--', label=f'Critical Value (+{z_critical:.2f})')\n",
    "plt.axvline(-z_critical, color='red', linestyle='--', label=f'Critical Value (-{z_critical:.2f})')\n",
    "plt.axvline(test_statistic,color ='green' , linestyle = 'dashed' , linewidth = 2 , label =f'test statistic ={test_statistic:.2f} ')\n",
    "plt.title('Gaussian Distribution with Rejection Region')\n",
    "plt.xlabel('Z-Score')\n",
    "plt.ylabel('Probability Density')\n",
    "plt.legend()\n",
    "plt.grid()\n",
    "\n",
    "plt.show()"
   ]
  }
 ],
 "metadata": {
  "kernelspec": {
   "display_name": "Python 3",
   "language": "python",
   "name": "python3"
  },
  "language_info": {
   "codemirror_mode": {
    "name": "ipython",
    "version": 3
   },
   "file_extension": ".py",
   "mimetype": "text/x-python",
   "name": "python",
   "nbconvert_exporter": "python",
   "pygments_lexer": "ipython3",
   "version": "3.13.1"
  }
 },
 "nbformat": 4,
 "nbformat_minor": 2
}
